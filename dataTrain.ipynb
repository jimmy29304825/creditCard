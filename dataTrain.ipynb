{
 "cells": [
  {
   "cell_type": "markdown",
   "id": "b0dee647",
   "metadata": {},
   "source": [
    "https://pyecontech.com/2020/04/11/python_svm/\n",
    "\n",
    "https://medium.com/@search.psop/python%E5%AD%B8%E7%BF%92%E7%AD%86%E8%A8%98-16-%E6%A9%9F%E5%99%A8%E5%AD%B8%E7%BF%92%E4%B9%8Bsvm%E5%AF%A6%E4%BD%9C%E7%AF%87-719d98c68ce3"
   ]
  },
  {
   "cell_type": "code",
   "execution_count": 95,
   "id": "eebf36de",
   "metadata": {},
   "outputs": [],
   "source": [
    "from sklearn import svm\n",
    "import pandas as pd\n",
    "import numpy as np\n",
    "import matplotlib.pyplot as plt\n",
    "from sklearn import datasets\n",
    "from sklearn.model_selection import train_test_split"
   ]
  },
  {
   "cell_type": "code",
   "execution_count": 96,
   "id": "cda4ce9f",
   "metadata": {},
   "outputs": [],
   "source": [
    "df = pd.read_excel('./default of credit card clients.xls', header=1)\n",
    "df = df.drop(columns='ID')\n",
    "df.loc[df['MARRIAGE'] == 0, 'MARRIAGE'] = 3"
   ]
  },
  {
   "cell_type": "code",
   "execution_count": 97,
   "id": "dd16678d",
   "metadata": {},
   "outputs": [],
   "source": [
    "from sklearn.preprocessing import OneHotEncoder\n",
    "onehotencoder = OneHotEncoder()\n",
    "data_whole_ohe=onehotencoder.fit_transform(df[['SEX', 'MARRIAGE']]).toarray()\n",
    "df_ohe = pd.DataFrame(data_whole_ohe, columns=['gender_male', 'gender_female', 'mairrage_married', 'mairrage_single', 'mairrage_others'])\n",
    "df_c = pd.concat([df.drop(columns=['SEX', 'MARRIAGE']), df_ohe], axis=1)"
   ]
  },
  {
   "cell_type": "code",
   "execution_count": 98,
   "id": "620ca390",
   "metadata": {},
   "outputs": [],
   "source": [
    "x_df = df_c.drop(columns='default payment next month')\n",
    "y_df = df_c[['default payment next month']]"
   ]
  },
  {
   "cell_type": "code",
   "execution_count": 99,
   "id": "7e04d6e1",
   "metadata": {},
   "outputs": [],
   "source": [
    "X_train, X_test, y_train, y_test = train_test_split(x_df, y_df,test_size=0.2,random_state=0)"
   ]
  },
  {
   "cell_type": "code",
   "execution_count": 75,
   "id": "01136ed3",
   "metadata": {},
   "outputs": [
    {
     "name": "stderr",
     "output_type": "stream",
     "text": [
      "C:\\Anaconda3\\envs\\g6424\\lib\\site-packages\\sklearn\\utils\\validation.py:63: DataConversionWarning: A column-vector y was passed when a 1d array was expected. Please change the shape of y to (n_samples, ), for example using ravel().\n",
      "  return f(*args, **kwargs)\n"
     ]
    },
    {
     "data": {
      "text/plain": [
       "SVC(C=1, gamma='auto')"
      ]
     },
     "execution_count": 75,
     "metadata": {},
     "output_type": "execute_result"
    }
   ],
   "source": [
    "clf=svm.SVC(kernel='rbf',C=1,gamma='auto')\n",
    "clf.fit(X_train,y_train)"
   ]
  },
  {
   "cell_type": "code",
   "execution_count": 76,
   "id": "73d24f4a",
   "metadata": {},
   "outputs": [
    {
     "data": {
      "text/plain": [
       "array([0, 0, 0, ..., 0, 0, 0], dtype=int64)"
      ]
     },
     "execution_count": 76,
     "metadata": {},
     "output_type": "execute_result"
    }
   ],
   "source": [
    "clf.predict(X_test)"
   ]
  },
  {
   "cell_type": "code",
   "execution_count": 77,
   "id": "100a5e25",
   "metadata": {},
   "outputs": [
    {
     "name": "stdout",
     "output_type": "stream",
     "text": [
      "0.994\n",
      "0.7838333333333334\n"
     ]
    }
   ],
   "source": [
    "print(clf.score(X_train,y_train))\n",
    "print(clf.score(X_test, y_test))"
   ]
  },
  {
   "cell_type": "code",
   "execution_count": 78,
   "id": "6567a9fe",
   "metadata": {},
   "outputs": [
    {
     "name": "stdout",
     "output_type": "stream",
     "text": [
      "[[4684   19]\n",
      " [1278   19]]\n",
      "\n",
      "\n",
      "              precision    recall  f1-score   support\n",
      "\n",
      "           0       0.79      1.00      0.88      4703\n",
      "           1       0.50      0.01      0.03      1297\n",
      "\n",
      "    accuracy                           0.78      6000\n",
      "   macro avg       0.64      0.51      0.45      6000\n",
      "weighted avg       0.72      0.78      0.69      6000\n",
      "\n"
     ]
    }
   ],
   "source": [
    "#載入classification report & confusion matrix\n",
    "from sklearn.metrics import classification_report, confusion_matrix\n",
    "\n",
    "#利用測試組資料來測試模型結果\n",
    "\n",
    "predictions = clf.predict(X_test)\n",
    "\n",
    "print(confusion_matrix(y_test,predictions))\n",
    "print('\\n')\n",
    "print(classification_report(y_test,predictions))"
   ]
  },
  {
   "cell_type": "code",
   "execution_count": 5,
   "id": "83123293",
   "metadata": {
    "scrolled": true
   },
   "outputs": [
    {
     "name": "stdout",
     "output_type": "stream",
     "text": [
      "Fitting 5 folds for each of 25 candidates, totalling 125 fits\n"
     ]
    },
    {
     "name": "stderr",
     "output_type": "stream",
     "text": [
      "C:\\Anaconda3\\envs\\g6424\\lib\\site-packages\\sklearn\\utils\\validation.py:63: DataConversionWarning: A column-vector y was passed when a 1d array was expected. Please change the shape of y to (n_samples, ), for example using ravel().\n",
      "  return f(*args, **kwargs)\n"
     ]
    },
    {
     "data": {
      "text/plain": [
       "GridSearchCV(estimator=SVC(), n_jobs=10,\n",
       "             param_grid={'C': [0.1, 1, 10, 100, 1000],\n",
       "                         'gamma': [1, 0.1, 0.01, 0.001, 0.0001]},\n",
       "             verbose=3)"
      ]
     },
     "execution_count": 5,
     "metadata": {},
     "output_type": "execute_result"
    }
   ],
   "source": [
    "#載入GridSearchCV\n",
    "from sklearn.model_selection import GridSearchCV\n",
    "\n",
    "#GridSearchCV是建立一個dictionary來組合要測試的參數\n",
    "param_grid = {'C':[0.1,1,10,100,1000],'gamma':[1,0.1,0.01,0.001,0.0001]}\n",
    "\n",
    "#GridSearchCV算是一個meta-estimator，參數中帶有estimator，像是SVC。重點是會創造一個新的estimator，但又表現得一模一樣，也就是estimator=SVC時，就是作為分類器\n",
    "#Verbose可設定為任一整數，它只是代表數字越高，文字解釋越多\n",
    "grid = GridSearchCV(svm.SVC(), param_grid,verbose=3, n_jobs=10)\n",
    "\n",
    "#利用剛剛設定的參數來找到最適合的模型\n",
    "grid.fit(X_train,y_train)"
   ]
  },
  {
   "cell_type": "code",
   "execution_count": 7,
   "id": "4e99d77e",
   "metadata": {},
   "outputs": [
    {
     "data": {
      "text/plain": [
       "SVC(C=10, gamma=0.001)"
      ]
     },
     "execution_count": 7,
     "metadata": {},
     "output_type": "execute_result"
    }
   ],
   "source": [
    "#顯示最佳estimator參數\n",
    "grid.best_estimator_"
   ]
  },
  {
   "cell_type": "code",
   "execution_count": 9,
   "id": "93fdd86c",
   "metadata": {},
   "outputs": [
    {
     "data": {
      "text/plain": [
       "0.785"
      ]
     },
     "execution_count": 9,
     "metadata": {},
     "output_type": "execute_result"
    }
   ],
   "source": [
    "grid.score(X_test, y_test)"
   ]
  },
  {
   "cell_type": "code",
   "execution_count": 8,
   "id": "814ed67f",
   "metadata": {},
   "outputs": [
    {
     "name": "stdout",
     "output_type": "stream",
     "text": [
      "[[4672   31]\n",
      " [1259   38]]\n",
      "\n",
      "\n",
      "              precision    recall  f1-score   support\n",
      "\n",
      "           0       0.79      0.99      0.88      4703\n",
      "           1       0.55      0.03      0.06      1297\n",
      "\n",
      "    accuracy                           0.79      6000\n",
      "   macro avg       0.67      0.51      0.47      6000\n",
      "weighted avg       0.74      0.79      0.70      6000\n",
      "\n"
     ]
    }
   ],
   "source": [
    "from sklearn.metrics import classification_report, confusion_matrix\n",
    "grid.score(X_test, y_test)\n",
    "#評估新參考的預測結果好壞\n",
    "print(confusion_matrix(y_test,grid_predictions))\n",
    "print('\\n')\n",
    "print(classification_report(y_test,grid_predictions))"
   ]
  },
  {
   "cell_type": "code",
   "execution_count": 134,
   "id": "26aeea13",
   "metadata": {},
   "outputs": [
    {
     "name": "stderr",
     "output_type": "stream",
     "text": [
      "C:\\Anaconda3\\envs\\g6424\\lib\\site-packages\\sklearn\\utils\\validation.py:63: DataConversionWarning: A column-vector y was passed when a 1d array was expected. Please change the shape of y to (n_samples, ), for example using ravel().\n",
      "  return f(*args, **kwargs)\n"
     ]
    },
    {
     "name": "stdout",
     "output_type": "stream",
     "text": [
      "              precision    recall  f1-score   support\n",
      "\n",
      "           0       0.89      0.17      0.29      4703\n",
      "           1       0.24      0.93      0.38      1297\n",
      "\n",
      "    accuracy                           0.33      6000\n",
      "   macro avg       0.56      0.55      0.33      6000\n",
      "weighted avg       0.75      0.33      0.31      6000\n",
      "\n"
     ]
    }
   ],
   "source": [
    "#載入邏輯回歸\n",
    "from sklearn.linear_model import LogisticRegression\n",
    "\n",
    "#建立訓練組邏輯迴歸模型\n",
    "logmodel = LogisticRegression(\n",
    "    C=1\n",
    "    , penalty='l1'\n",
    "    , solver='liblinear'\n",
    "    , random_state=900\n",
    "    , class_weight = {0:0.1,1:0.9}\n",
    ")\n",
    "logmodel.fit(X_train,y_train)\n",
    "\n",
    "#預測\n",
    "#使用模型來預測\n",
    "predictions = logmodel.predict(X_test)\n",
    "\n",
    "#載入classificationo_report來看預測和實際值的差異，包含precision、recall、f1-score及support\n",
    "from sklearn.metrics import classification_report\n",
    "print(classification_report(y_test,predictions))"
   ]
  },
  {
   "cell_type": "code",
   "execution_count": 138,
   "id": "d3efb943",
   "metadata": {},
   "outputs": [
    {
     "name": "stdout",
     "output_type": "stream",
     "text": [
      "Fitting 10 folds for each of 30 candidates, totalling 300 fits\n"
     ]
    },
    {
     "name": "stderr",
     "output_type": "stream",
     "text": [
      "C:\\Anaconda3\\envs\\g6424\\lib\\site-packages\\sklearn\\utils\\validation.py:63: DataConversionWarning: A column-vector y was passed when a 1d array was expected. Please change the shape of y to (n_samples, ), for example using ravel().\n",
      "  return f(*args, **kwargs)\n",
      "C:\\Anaconda3\\envs\\g6424\\lib\\site-packages\\sklearn\\linear_model\\_logistic.py:765: ConvergenceWarning: lbfgs failed to converge (status=1):\n",
      "STOP: TOTAL NO. of ITERATIONS REACHED LIMIT.\n",
      "\n",
      "Increase the number of iterations (max_iter) or scale the data as shown in:\n",
      "    https://scikit-learn.org/stable/modules/preprocessing.html\n",
      "Please also refer to the documentation for alternative solver options:\n",
      "    https://scikit-learn.org/stable/modules/linear_model.html#logistic-regression\n",
      "  extra_warning_msg=_LOGISTIC_SOLVER_CONVERGENCE_MSG)\n"
     ]
    },
    {
     "data": {
      "text/plain": [
       "GridSearchCV(cv=10, estimator=LogisticRegression(), n_jobs=10,\n",
       "             param_grid={'C': [0.1, 1, 10, 100, 1000],\n",
       "                         'class_weight': [{0: 0.1, 1: 0.9}, {0: 0.2, 1: 0.8},\n",
       "                                          {0: 0.3, 1: 0.7}, {0: 0.4, 1: 0.6},\n",
       "                                          {0: 0.1, 1: 0.9}, {0: 0.5, 1: 0.5}]},\n",
       "             verbose=3)"
      ]
     },
     "execution_count": 138,
     "metadata": {},
     "output_type": "execute_result"
    }
   ],
   "source": [
    "#GridSearchCV是建立一個dictionary來組合要測試的參數\n",
    "param_grid = {\n",
    "    'C':[0.1,1,10,100,1000]\n",
    "    , 'class_weight':[{0:0.1,1:0.9}, {0:0.2,1:0.8}, {0:0.3,1:0.7}, {0:0.4,1:0.6}, {0:0.1,1:0.9}, {0:0.5,1:0.5}]\n",
    "}\n",
    "\n",
    "#GridSearchCV算是一個meta-estimator，參數中帶有estimator，像是SVC。重點是會創造一個新的estimator，但又表現得一模一樣，也就是estimator=SVC時，就是作為分類器\n",
    "#Verbose可設定為任一整數，它只是代表數字越高，文字解釋越多\n",
    "grid = GridSearchCV(LogisticRegression(), param_grid,verbose=3, n_jobs=10,cv=10)\n",
    "\n",
    "#利用剛剛設定的參數來找到最適合的模型\n",
    "grid.fit(X_train,y_train)"
   ]
  },
  {
   "cell_type": "code",
   "execution_count": 139,
   "id": "4b721141",
   "metadata": {},
   "outputs": [
    {
     "data": {
      "text/plain": [
       "LogisticRegression(C=1, class_weight={0: 0.4, 1: 0.6})"
      ]
     },
     "execution_count": 139,
     "metadata": {},
     "output_type": "execute_result"
    }
   ],
   "source": [
    "#顯示最佳estimator參數\n",
    "grid.best_estimator_"
   ]
  },
  {
   "cell_type": "code",
   "execution_count": 140,
   "id": "2fb8acfe",
   "metadata": {},
   "outputs": [
    {
     "name": "stdout",
     "output_type": "stream",
     "text": [
      "[[4672   31]\n",
      " [1259   38]]\n",
      "\n",
      "\n",
      "              precision    recall  f1-score   support\n",
      "\n",
      "           0       0.79      0.99      0.88      4703\n",
      "           1       0.55      0.03      0.06      1297\n",
      "\n",
      "    accuracy                           0.79      6000\n",
      "   macro avg       0.67      0.51      0.47      6000\n",
      "weighted avg       0.74      0.79      0.70      6000\n",
      "\n"
     ]
    }
   ],
   "source": [
    "from sklearn.metrics import classification_report, confusion_matrix\n",
    "grid.score(X_test, y_test)\n",
    "#評估新參考的預測結果好壞\n",
    "print(confusion_matrix(y_test,grid_predictions))\n",
    "print('\\n')\n",
    "print(classification_report(y_test,grid_predictions))"
   ]
  },
  {
   "cell_type": "code",
   "execution_count": 81,
   "id": "df9742be",
   "metadata": {},
   "outputs": [
    {
     "data": {
      "text/plain": [
       "array([[4702,    1],\n",
       "       [1297,    0]], dtype=int64)"
      ]
     },
     "execution_count": 81,
     "metadata": {},
     "output_type": "execute_result"
    }
   ],
   "source": [
    "#利用confusion_matrix來看\n",
    "from sklearn.metrics import confusion_matrix\n",
    "confusion_matrix(y_test,predictions)"
   ]
  },
  {
   "cell_type": "markdown",
   "id": "aeef024e",
   "metadata": {},
   "source": [
    "https://yanwei-liu.medium.com/python%E6%A9%9F%E5%99%A8%E5%AD%B8%E7%BF%92%E7%AD%86%E8%A8%98-%E5%85%AD-%E4%BD%BF%E7%94%A8scikit-learn%E5%BB%BA%E7%AB%8B%E9%9A%A8%E6%A9%9F%E6%A3%AE%E6%9E%97-af13a493f36d"
   ]
  },
  {
   "cell_type": "code",
   "execution_count": 37,
   "id": "e02bc487",
   "metadata": {},
   "outputs": [
    {
     "name": "stderr",
     "output_type": "stream",
     "text": [
      "C:\\Anaconda3\\envs\\g6424\\lib\\site-packages\\ipykernel_launcher.py:6: DataConversionWarning: A column-vector y was passed when a 1d array was expected. Please change the shape of y to (n_samples,), for example using ravel().\n",
      "  \n"
     ]
    },
    {
     "data": {
      "text/plain": [
       "RandomForestRegressor(n_estimators=1000, random_state=42)"
      ]
     },
     "execution_count": 37,
     "metadata": {},
     "output_type": "execute_result"
    }
   ],
   "source": [
    "# Import the model we are using\n",
    "from sklearn.ensemble import RandomForestRegressor\n",
    "# Instantiate model with 1000 decision trees\n",
    "rf = RandomForestRegressor(n_estimators = 1000, random_state = 42)\n",
    "# Train the model on training data\n",
    "rf.fit(X_train,y_train)"
   ]
  },
  {
   "cell_type": "code",
   "execution_count": 42,
   "id": "2fdb1b24",
   "metadata": {},
   "outputs": [
    {
     "name": "stdout",
     "output_type": "stream",
     "text": [
      "0.8894239988784666\n",
      "0.20094490650374175\n"
     ]
    }
   ],
   "source": [
    "print(rf.score(X_train,y_train))\n",
    "print(rf.score(X_test, y_test))"
   ]
  },
  {
   "cell_type": "code",
   "execution_count": 38,
   "id": "a8801d57",
   "metadata": {},
   "outputs": [
    {
     "name": "stdout",
     "output_type": "stream",
     "text": [
      "Mean Absolute Error: 0.35 degrees.\n"
     ]
    }
   ],
   "source": [
    "# Use the forest's predict method on the test data\n",
    "predictions = rf.predict(X_test)\n",
    "# Calculate the absolute errors\n",
    "errors = abs(predictions - y_test.to_numpy())\n",
    "# Print out the mean absolute error (mae)\n",
    "print('Mean Absolute Error:', round(np.mean(errors), 2), 'degrees.')"
   ]
  },
  {
   "cell_type": "code",
   "execution_count": 39,
   "id": "6b413fa9",
   "metadata": {},
   "outputs": [
    {
     "name": "stdout",
     "output_type": "stream",
     "text": [
      "Variable: PAY_0                Importance: 0.16\n",
      "Variable: AGE                  Importance: 0.07\n",
      "Variable: LIMIT_BAL            Importance: 0.06\n",
      "Variable: BILL_AMT1            Importance: 0.06\n",
      "Variable: BILL_AMT2            Importance: 0.05\n",
      "Variable: BILL_AMT6            Importance: 0.05\n",
      "Variable: PAY_AMT1             Importance: 0.05\n",
      "Variable: PAY_AMT2             Importance: 0.05\n",
      "Variable: PAY_AMT3             Importance: 0.05\n",
      "Variable: PAY_AMT5             Importance: 0.05\n",
      "Variable: PAY_AMT6             Importance: 0.05\n",
      "Variable: PAY_2                Importance: 0.04\n",
      "Variable: BILL_AMT3            Importance: 0.04\n",
      "Variable: BILL_AMT4            Importance: 0.04\n",
      "Variable: BILL_AMT5            Importance: 0.04\n",
      "Variable: PAY_AMT4             Importance: 0.04\n",
      "Variable: EDUCATION            Importance: 0.02\n",
      "Variable: SEX                  Importance: 0.01\n",
      "Variable: MARRIAGE             Importance: 0.01\n",
      "Variable: PAY_3                Importance: 0.01\n",
      "Variable: PAY_4                Importance: 0.01\n",
      "Variable: PAY_5                Importance: 0.01\n",
      "Variable: PAY_6                Importance: 0.01\n"
     ]
    }
   ],
   "source": [
    "# Get numerical feature importances\n",
    "feature_list = list(x_df.columns)\n",
    "importances = list(rf.feature_importances_)\n",
    "# List of tuples with variable and importance\n",
    "feature_importances = [(feature, round(importance, 2)) for feature, importance in zip(feature_list, importances)]\n",
    "# Sort the feature importances by most important first\n",
    "feature_importances = sorted(feature_importances, key = lambda x: x[1], reverse = True)\n",
    "# Print out the feature and importances \n",
    "[print('Variable: {:20} Importance: {}'.format(*pair)) for pair in feature_importances];"
   ]
  },
  {
   "cell_type": "code",
   "execution_count": 40,
   "id": "59022ace",
   "metadata": {},
   "outputs": [
    {
     "data": {
      "image/png": "[encoded data removed]",
      "text/plain": [
       "<Figure size 432x288 with 1 Axes>"
      ]
     },
     "metadata": {},
     "output_type": "display_data"
    }
   ],
   "source": [
    "# Import matplotlib for plotting and use magic command for Jupyter Notebooks\n",
    "import matplotlib.pyplot as plt\n",
    "%matplotlib inline\n",
    "# Set the style\n",
    "plt.style.use('fivethirtyeight')\n",
    "# list of x locations for plotting\n",
    "x_values = list(range(len(importances)))\n",
    "# Make a bar chart\n",
    "plt.bar(x_values, importances, orientation = 'vertical')\n",
    "# Tick labels for x axis\n",
    "plt.xticks(x_values, feature_list, rotation='vertical')\n",
    "# Axis labels and title\n",
    "plt.ylabel('Importance'); plt.xlabel('Variable'); plt.title('Variable Importances');"
   ]
  },
  {
   "cell_type": "code",
   "execution_count": 41,
   "id": "413eefce",
   "metadata": {},
   "outputs": [
    {
     "name": "stderr",
     "output_type": "stream",
     "text": [
      "C:\\Anaconda3\\envs\\g6424\\lib\\site-packages\\ipykernel_launcher.py:8: DataConversionWarning: A column-vector y was passed when a 1d array was expected. Please change the shape of y to (n_samples,), for example using ravel().\n",
      "  \n"
     ]
    },
    {
     "name": "stdout",
     "output_type": "stream",
     "text": [
      "Mean Absolute Error: 0.34 degrees.\n"
     ]
    }
   ],
   "source": [
    "# New random forest with only the two most important variables\n",
    "rf_most_important = RandomForestRegressor(n_estimators= 1000, random_state=42)\n",
    "# Extract the two most important features\n",
    "important_indices = [feature_list.index('PAY_0'), feature_list.index('BILL_AMT1')]\n",
    "train_important = X_train.to_numpy()[:, important_indices]\n",
    "test_important = X_test.to_numpy()[:, important_indices]\n",
    "# Train the random forest\n",
    "rf_most_important.fit(train_important, y_train)\n",
    "# Make predictions and determine the error\n",
    "predictions = rf_most_important.predict(test_important)\n",
    "errors = abs(predictions - y_test.to_numpy())\n",
    "# Display the performance metrics\n",
    "print('Mean Absolute Error:', round(np.mean(errors), 2), 'degrees.')"
   ]
  },
  {
   "cell_type": "code",
   "execution_count": 43,
   "id": "b7fff0e7",
   "metadata": {},
   "outputs": [
    {
     "name": "stderr",
     "output_type": "stream",
     "text": [
      "C:\\Anaconda3\\envs\\g6424\\lib\\site-packages\\ipykernel_launcher.py:3: DataConversionWarning: A column-vector y was passed when a 1d array was expected. Please change the shape of y to (n_samples,), for example using ravel().\n",
      "  This is separate from the ipykernel package so we can avoid doing imports until\n"
     ]
    },
    {
     "data": {
      "text/plain": [
       "RandomForestRegressor(max_depth=3, n_estimators=10)"
      ]
     },
     "execution_count": 43,
     "metadata": {},
     "output_type": "execute_result"
    }
   ],
   "source": [
    "# Limit depth of tree to 3 levels\n",
    "rf_small = RandomForestRegressor(n_estimators=10, max_depth = 3)\n",
    "rf_small.fit(X_train, y_train)"
   ]
  },
  {
   "cell_type": "code",
   "execution_count": 45,
   "id": "535a366a",
   "metadata": {},
   "outputs": [
    {
     "name": "stdout",
     "output_type": "stream",
     "text": [
      "0.20148828799303786\n",
      "0.20839024139887674\n"
     ]
    }
   ],
   "source": [
    "print(rf_small.score(X_train,y_train))\n",
    "print(rf_small.score(X_test, y_test))"
   ]
  }
 ],
 "metadata": {
  "kernelspec": {
   "display_name": "Python 3",
   "language": "python",
   "name": "python3"
  },
  "language_info": {
   "codemirror_mode": {
    "name": "ipython",
    "version": 3
   },
   "file_extension": ".py",
   "mimetype": "text/x-python",
   "name": "python",
   "nbconvert_exporter": "python",
   "pygments_lexer": "ipython3",
   "version": "3.7.9"
  }
 },
 "nbformat": 4,
 "nbformat_minor": 5
}
